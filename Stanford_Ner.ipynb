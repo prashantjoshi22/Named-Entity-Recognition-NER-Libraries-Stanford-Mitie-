{
 "cells": [
  {
   "cell_type": "markdown",
   "metadata": {},
   "source": [
    "### Stanford NER Pre-Trained Model"
   ]
  },
  {
   "cell_type": "code",
   "execution_count": 16,
   "metadata": {
    "collapsed": true
   },
   "outputs": [],
   "source": [
    "from nltk.tag import StanfordNERTagger\n",
    "from nltk.tokenize import word_tokenize\n",
    "import pandas as pd"
   ]
  },
  {
   "cell_type": "code",
   "execution_count": 17,
   "metadata": {},
   "outputs": [],
   "source": [
    "st = StanfordNERTagger('/home/joshi/Desktop/stanford-ner-2016-10-31/classifiers/english.all.3class.distsim.crf.ser.gz',\n",
    "                       '/home/joshi/Desktop/stanford-ner-2016-10-31/stanford-ner.jar',encoding='utf-8')"
   ]
  },
  {
   "cell_type": "code",
   "execution_count": 18,
   "metadata": {},
   "outputs": [
    {
     "data": {
      "text/plain": [
       "\"My name is Prashant Joshi. I work in Crisp Analytics . Delhi has a rich historical background and has been home to many ancient empires such as the Mauryan Empire, Mughal Empire, and renowned dynasties like the Tomara dynasty, Slave dynasty, Tughluq dynasty, Khilji dynasty, and so on. It is believed that Delhi was Indraprastha, the capital of the pandavas, in the Mahabharata epic. Delhi was also an important place for Sufism. Delhi became India's political capital when the British shifted its capital from Calcutta in 1911. The name 'New Delhi' was given to the capital city in 1927 and on 13 February 1931 the city was inaugurated officially as capital of India. When India became independent on 15 August 1947, New Delhi was officially declared as the capital of the Union of India.\\n\""
      ]
     },
     "execution_count": 18,
     "metadata": {},
     "output_type": "execute_result"
    }
   ],
   "source": [
    "F = open(\"/home/joshi/sample.txt\",\"r\") \n",
    "data = []\n",
    "for i in F:\n",
    "    data.append(i)\n",
    "F.close()\n",
    "text = str(data[0])\n",
    "text"
   ]
  },
  {
   "cell_type": "code",
   "execution_count": 21,
   "metadata": {},
   "outputs": [],
   "source": [
    "tokenized_text = word_tokenize(text)\n",
    "classified_text = st.tag(tokenized_text)"
   ]
  },
  {
   "cell_type": "code",
   "execution_count": 20,
   "metadata": {},
   "outputs": [
    {
     "name": "stdout",
     "output_type": "stream",
     "text": [
      "<class 'str'>\n",
      "('Prashant', 'PERSON')\n",
      "('Joshi', 'PERSON')\n",
      "('Crisp', 'ORGANIZATION')\n",
      "('Analytics', 'ORGANIZATION')\n",
      "('Delhi', 'LOCATION')\n",
      "('Khilji', 'LOCATION')\n",
      "('Delhi', 'LOCATION')\n",
      "('Indraprastha', 'LOCATION')\n",
      "('Delhi', 'LOCATION')\n",
      "('Delhi', 'LOCATION')\n",
      "('India', 'LOCATION')\n",
      "('Calcutta', 'LOCATION')\n",
      "('Delhi', 'LOCATION')\n",
      "('India', 'LOCATION')\n",
      "('India', 'LOCATION')\n",
      "('New', 'LOCATION')\n",
      "('Delhi', 'LOCATION')\n",
      "('India', 'LOCATION')\n"
     ]
    }
   ],
   "source": [
    "print(type(classified_text[2][1]))\n",
    "for i in range(len(classified_text)):\n",
    "    if(classified_text[i][1] == 'O'):\n",
    "       # print(\"sdnfodsnf\")\n",
    "        continue\n",
    "        \n",
    "    else:\n",
    "        print(classified_text[i])"
   ]
  }
 ],
 "metadata": {
  "kernelspec": {
   "display_name": "Python 3",
   "language": "python",
   "name": "python3"
  },
  "language_info": {
   "codemirror_mode": {
    "name": "ipython",
    "version": 3
   },
   "file_extension": ".py",
   "mimetype": "text/x-python",
   "name": "python",
   "nbconvert_exporter": "python",
   "pygments_lexer": "ipython3",
   "version": "3.6.1"
  }
 },
 "nbformat": 4,
 "nbformat_minor": 2
}
