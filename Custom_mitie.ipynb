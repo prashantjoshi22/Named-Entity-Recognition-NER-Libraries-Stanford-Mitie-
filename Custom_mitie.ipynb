{
 "cells": [
  {
   "cell_type": "markdown",
   "metadata": {},
   "source": [
    "### Costomized Named Entity Recognition"
   ]
  },
  {
   "cell_type": "code",
   "execution_count": 14,
   "metadata": {
    "collapsed": true
   },
   "outputs": [],
   "source": [
    "from mitie import *"
   ]
  },
  {
   "cell_type": "code",
   "execution_count": 15,
   "metadata": {
    "collapsed": true
   },
   "outputs": [],
   "source": [
    "sample = ner_training_instance([\"I\",\"am\",\"a\",\"Java\",\"Developer\",\"and\" ,\"my\" ,\"name\", \"is\" ,\"Prashant joshi\"])\n",
    " \n",
    "sample.add_entity(xrange(3,5), \"skill\")\n",
    "#sample.add_entity(xrange(9,10), \"org\")\n",
    "sample.add_entity(xrange(9,10),\"per\")\n",
    "\n",
    "# And we add another training example\n",
    "sample2 = ner_training_instance([\"I\",\"know\",\"Scala\",\"and\",\"I\",\"work\",\"in\",\"Crisp\", \"Analytics\"])\n",
    "sample2.add_entity(xrange(7,9), \"org\")\n",
    "#sample2.add_entity(xrange(10,11), \"org\")\n",
    "sample2.add_entity(xrange(2,3),\"skill\")"
   ]
  },
  {
   "cell_type": "code",
   "execution_count": 16,
   "metadata": {
    "collapsed": true
   },
   "outputs": [],
   "source": [
    "trainer = ner_trainer(\"/home/joshi/Desktop/MITIE-models/english/total_word_feature_extractor.dat\")\n",
    "trainer.add(sample)\n",
    "trainer.add(sample2)"
   ]
  },
  {
   "cell_type": "code",
   "execution_count": 17,
   "metadata": {
    "collapsed": true
   },
   "outputs": [],
   "source": [
    "trainer.num_threads = 3\n",
    "ner = trainer.train()\n"
   ]
  },
  {
   "cell_type": "code",
   "execution_count": 18,
   "metadata": {},
   "outputs": [
    {
     "name": "stdout",
     "output_type": "stream",
     "text": [
      "tags: ['skill', 'per', 'org']\n"
     ]
    }
   ],
   "source": [
    "print (\"tags:\", ner.get_possible_ner_tags())"
   ]
  },
  {
   "cell_type": "code",
   "execution_count": 19,
   "metadata": {},
   "outputs": [
    {
     "name": "stdout",
     "output_type": "stream",
     "text": [
      "\n",
      "Entities found: [(range(2, 3), 'skill', 0.21994216716409604), (range(8, 9), 'per', 0.22807025219207605)]\n",
      "\n",
      "Number of entities detected: 2\n",
      "    skill: Python\n",
      "    per: rahul\n"
     ]
    }
   ],
   "source": [
    "# Now let's make up a test sentence and ask the ner object to find the entities.\n",
    "tokens = [\"I\", \"love\", \"Python\", \"tool\",\"and\" ,\"my\",\"name\",\"is\",\"rahul\"]\n",
    "entities = ner.extract_entities(tokens)\n",
    "# Happily, it found the correct answers, \"John Becker\" and \"HBU\" in this case which we\n",
    "# print out below.\n",
    "print (\"\\nEntities found:\", entities)\n",
    "print (\"\\nNumber of entities detected:\", len(entities))\n",
    "for e in entities:\n",
    "    range = e[0]\n",
    "    tag = e[1]\n",
    "    entity_text = \" \".join(tokens[i] for i in range)\n",
    "    print (\"    \" + tag + \": \" + entity_text)"
   ]
  }
 ],
 "metadata": {
  "anaconda-cloud": {},
  "kernelspec": {
   "display_name": "Python 3",
   "language": "python",
   "name": "python3"
  },
  "language_info": {
   "codemirror_mode": {
    "name": "ipython",
    "version": 3
   },
   "file_extension": ".py",
   "mimetype": "text/x-python",
   "name": "python",
   "nbconvert_exporter": "python",
   "pygments_lexer": "ipython3",
   "version": "3.6.1"
  }
 },
 "nbformat": 4,
 "nbformat_minor": 1
}
