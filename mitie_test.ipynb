{
 "cells": [
  {
   "cell_type": "markdown",
   "metadata": {
    "collapsed": true
   },
   "source": [
    "### Simple Named Entity Recognition using Mitie Pre-Trained Model\n"
   ]
  },
  {
   "cell_type": "code",
   "execution_count": 118,
   "metadata": {
    "collapsed": true
   },
   "outputs": [],
   "source": [
    "from mitie import *\n",
    "import sys, os"
   ]
  },
  {
   "cell_type": "code",
   "execution_count": 119,
   "metadata": {},
   "outputs": [
    {
     "name": "stdout",
     "output_type": "stream",
     "text": [
      "loading NER model...\n"
     ]
    }
   ],
   "source": [
    "print(\"loading NER model...\")\n",
    "ner = named_entity_extractor('/home/joshi/Desktop/MITIE-models/english/ner_model.dat')"
   ]
  },
  {
   "cell_type": "code",
   "execution_count": 120,
   "metadata": {},
   "outputs": [
    {
     "name": "stdout",
     "output_type": "stream",
     "text": [
      "\n",
      "Tags output by this NER model: ['PERSON', 'LOCATION', 'ORGANIZATION', 'MISC']\n"
     ]
    }
   ],
   "source": [
    "print(\"\\nTags output by this NER model:\", ner.get_possible_ner_tags())"
   ]
  },
  {
   "cell_type": "code",
   "execution_count": 121,
   "metadata": {},
   "outputs": [
    {
     "name": "stdout",
     "output_type": "stream",
     "text": [
      "[b'My', b'name', b'is', b'Prashant', b'Joshi', b'.', b'I', b'work', b'in', b'Crisp', b'Analytics', b'.', b'Delhi', b'has', b'a', b'rich', b'historical', b'background', b'and', b'has', b'been', b'home', b'to', b'many', b'ancient', b'empires', b'such', b'as', b'the', b'Mauryan', b'Empire', b',', b'Mughal', b'Empire', b',', b'and', b'renowned', b'dynasties', b'like', b'the', b'Tomara', b'dynasty', b',', b'Slave', b'dynasty', b',', b'Tughluq', b'dynasty', b',', b'Khilji', b'dynasty', b',', b'and', b'so', b'on', b'.', b'It', b'is', b'believed', b'that', b'Delhi', b'was', b'Indraprastha', b',', b'the', b'capital', b'of', b'the', b'pandavas', b',', b'in', b'the', b'Mahabharata', b'epic', b'.', b'Delhi', b'was', b'also', b'an', b'important', b'place', b'for', b'Sufism', b'.', b'Delhi', b'became', b'India', b\"'s\", b'political', b'capital', b'when', b'the', b'British', b'shifted', b'its', b'capital', b'from', b'Calcutta', b'in', b'1911.', b'The', b'name', b\"'New\", b'Delhi', b\"'\", b'was', b'given', b'to', b'the', b'capital', b'city', b'in', b'1927', b'and', b'on', b'13', b'February', b'1931', b'the', b'city', b'was', b'inaugurated', b'officially', b'as', b'capital', b'of', b'India', b'.', b'When', b'India', b'became', b'independent', b'on', b'15', b'August', b'1947,', b'New', b'Delhi', b'was', b'officially', b'declared', b'as', b'the', b'capital', b'of', b'the', b'Union', b'of', b'India', b'.']\n"
     ]
    }
   ],
   "source": [
    "#inp=\"Named-entity recognition (NER) (also known as entity identification, entity chunking and entity extraction) is a subtask of information extraction that seeks to locate and classify named entities in text into pre-defined categories such as the names of persons, organizations, locations, expressions of times, quantities, monetary values, percentages, etc.Most research on NER systems has been structured as taking an unannotated block of text, such as this one:Jim bought 300 shares of Acme Corp. in 2006.\"\n",
    "#inp =\"My name is Prashant Joshi.I worked as an Intern in Crisp Analytics\"\n",
    "#tokens = mt.tokenize(inp)\n",
    "#print(\"Tokenized input:\", tokens)\n",
    "token = tokenize(load_entire_file('/home/joshi/sample.txt'))\n",
    "print(token)"
   ]
  },
  {
   "cell_type": "code",
   "execution_count": 125,
   "metadata": {},
   "outputs": [
    {
     "name": "stdout",
     "output_type": "stream",
     "text": [
      "[(range(12, 13), 'LOCATION', 0.8435439572792025), (range(29, 31), 'MISC', 0.12210811019410864), (range(32, 34), 'ORGANIZATION', 0.2707483450287706), (range(40, 41), 'PERSON', 0.2746299060986423), (range(43, 45), 'LOCATION', 0.09630534539830282), (range(49, 51), 'LOCATION', 0.2156121974072258), (range(60, 61), 'LOCATION', 0.7513993651369439), (range(62, 63), 'PERSON', 0.47668728553007894), (range(72, 73), 'LOCATION', 0.09035659240497765), (range(75, 76), 'LOCATION', 0.6213376375620581), (range(84, 85), 'LOCATION', 0.9234367194738186), (range(86, 87), 'LOCATION', 1.1389544803256368), (range(92, 93), 'MISC', 0.9233744729226), (range(97, 98), 'LOCATION', 1.5506856757691414), (range(103, 104), 'LOCATION', 0.6071591822550009), (range(126, 127), 'LOCATION', 1.666190846478917), (range(129, 130), 'LOCATION', 1.4269857780731001), (range(136, 138), 'LOCATION', 0.9126734456903656), (range(146, 149), 'ORGANIZATION', 0.7498404852192337)]\n"
     ]
    }
   ],
   "source": [
    "entities = ner.extract_entities(token)\n",
    "print(entities)"
   ]
  },
  {
   "cell_type": "code",
   "execution_count": 123,
   "metadata": {},
   "outputs": [
    {
     "name": "stdout",
     "output_type": "stream",
     "text": [
      "\n",
      "Number of entities detected: 19\n"
     ]
    }
   ],
   "source": [
    "#print(\"\\nEntities found:\", entities)\n",
    "print(\"\\nNumber of entities detected:\", len(entities))"
   ]
  },
  {
   "cell_type": "code",
   "execution_count": 126,
   "metadata": {},
   "outputs": [
    {
     "name": "stdout",
     "output_type": "stream",
     "text": [
      "LOCATION: Delhi\n",
      "MISC: Mauryan Empire\n",
      "ORGANIZATION: Mughal Empire\n",
      "PERSON: Tomara\n",
      "LOCATION: Slave dynasty\n",
      "LOCATION: Khilji dynasty\n",
      "LOCATION: Delhi\n",
      "PERSON: Indraprastha\n",
      "LOCATION: Mahabharata\n",
      "LOCATION: Delhi\n",
      "LOCATION: Delhi\n",
      "LOCATION: India\n",
      "MISC: British\n",
      "LOCATION: Calcutta\n",
      "LOCATION: Delhi\n",
      "LOCATION: India\n",
      "LOCATION: India\n",
      "LOCATION: New Delhi\n",
      "ORGANIZATION: Union of India\n"
     ]
    }
   ],
   "source": [
    "\n",
    "for e in entities:\n",
    "    range = e[0]\n",
    "    tag = e[1]\n",
    "    entity_text = \" \".join(token[i].decode() for i in range)\n",
    "    print(tag + \": \" + entity_text)\n",
    "\n"
   ]
  },
  {
   "cell_type": "code",
   "execution_count": null,
   "metadata": {
    "collapsed": true
   },
   "outputs": [],
   "source": []
  },
  {
   "cell_type": "code",
   "execution_count": null,
   "metadata": {
    "collapsed": true
   },
   "outputs": [],
   "source": []
  }
 ],
 "metadata": {
  "anaconda-cloud": {},
  "kernelspec": {
   "display_name": "Python 3",
   "language": "python",
   "name": "python3"
  },
  "language_info": {
   "codemirror_mode": {
    "name": "ipython",
    "version": 3
   },
   "file_extension": ".py",
   "mimetype": "text/x-python",
   "name": "python",
   "nbconvert_exporter": "python",
   "pygments_lexer": "ipython3",
   "version": "3.6.1"
  }
 },
 "nbformat": 4,
 "nbformat_minor": 1
}
